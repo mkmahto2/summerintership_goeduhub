{
  "nbformat": 4,
  "nbformat_minor": 0,
  "metadata": {
    "colab": {
      "name": "Assignment_3-goeduhub.ipynb",
      "provenance": [],
      "collapsed_sections": [],
      "include_colab_link": true
    },
    "kernelspec": {
      "name": "python3",
      "display_name": "Python 3"
    },
    "language_info": {
      "name": "python"
    }
  },
  "cells": [
    {
      "cell_type": "markdown",
      "metadata": {
        "id": "view-in-github",
        "colab_type": "text"
      },
      "source": [
        "<a href=\"https://colab.research.google.com/github/mkmahto2/summerintership_goeduhub/blob/main/Assignment_3_goeduhub.ipynb\" target=\"_parent\"><img src=\"https://colab.research.google.com/assets/colab-badge.svg\" alt=\"Open In Colab\"/></a>"
      ]
    },
    {
      "cell_type": "markdown",
      "metadata": {
        "id": "fq-h1pdZ-Z5C"
      },
      "source": [
        "Name: <b><a href=\"https://github.com/mkmahto2\">Mukesh Kumar Mahto</a></b>\n",
        "\n",
        "\n",
        "\n",
        "\n",
        "\n",
        "Reg_ID: GO_STP_9639"
      ]
    },
    {
      "cell_type": "markdown",
      "metadata": {
        "id": "7ZCLHp_L-pO7"
      },
      "source": [
        "<b>Q.1 Write a Python Program to sort (ascending and descending) a dictionary by value. </b>"
      ]
    },
    {
      "cell_type": "code",
      "metadata": {
        "id": "GKweptm4-Fca",
        "colab": {
          "base_uri": "https://localhost:8080/"
        },
        "outputId": "53cb0eef-8f5d-429d-974b-087dfabb2b8a"
      },
      "source": [
        "import operator\n",
        "d = {'a':25, 'b':40, 'c':10, 'e':15, 'f':50, 'g':20} \n",
        "print(f\"Original dictionary: {d}\")\n",
        "\n",
        "asc_sorted_d = sorted(d.items(), key=operator.itemgetter(1))\n",
        "print(f\"Dictionary in ascending order: {asc_sorted_d}\")\n",
        "\n",
        "dec_sorted_d = sorted(d.items(), key=operator.itemgetter(1), reverse=True)\n",
        "print(f\"Dictionary in descending order: {dec_sorted_d}\")\n"
      ],
      "execution_count": 1,
      "outputs": [
        {
          "output_type": "stream",
          "text": [
            "Original dictionary: {'a': 25, 'b': 40, 'c': 10, 'e': 15, 'f': 50, 'g': 20}\n",
            "Dictionary in ascending order: [('c', 10), ('e', 15), ('g', 20), ('a', 25), ('b', 40), ('f', 50)]\n",
            "Dictionary in descending order: [('f', 50), ('b', 40), ('a', 25), ('g', 20), ('e', 15), ('c', 10)]\n"
          ],
          "name": "stdout"
        }
      ]
    },
    {
      "cell_type": "markdown",
      "metadata": {
        "id": "3iRTHCHx-uWc"
      },
      "source": [
        "<b>Q.2 Write a Python Program to add a key to a dictionary.<br />\n",
        "Sample Dictionary : {0: 10, 1: 20}<br />\n",
        "Expected Result : {0: 10, 1: 20, 2: 30}\n",
        "</b>\n",
        "  "
      ]
    },
    {
      "cell_type": "code",
      "metadata": {
        "id": "ByXA2-1H-ubU",
        "colab": {
          "base_uri": "https://localhost:8080/"
        },
        "outputId": "a4b1bff0-855c-4cf5-8c07-3eef6f71f1b9"
      },
      "source": [
        "d={0:10,1:20}\n",
        "d.update({2:30})\n",
        "print(d)"
      ],
      "execution_count": 2,
      "outputs": [
        {
          "output_type": "stream",
          "text": [
            "{0: 10, 1: 20, 2: 30}\n"
          ],
          "name": "stdout"
        }
      ]
    },
    {
      "cell_type": "markdown",
      "metadata": {
        "id": "N8Zt2xCw-ugN"
      },
      "source": [
        "<b>Q.3 Write a  program asks for City name and Temperature and builds a dictionary using that Later on you can input City name and it will tell you the Temperature of that City.</b>"
      ]
    },
    {
      "cell_type": "code",
      "metadata": {
        "id": "qSZNBaoY-uk3",
        "colab": {
          "base_uri": "https://localhost:8080/"
        },
        "outputId": "f69adb8e-1007-4ea1-eeaf-33eae2d2ef09"
      },
      "source": [
        "city_temp_dict = dict()\n",
        "while(True):\n",
        "  city = input(\"Enter the city name: \").strip()\n",
        "  temperature = float(input(\"Enter the temperature in fahrenheit: \").strip())\n",
        "  city_temp_dict[city] = temperature\n",
        "  ans = input(print(f\"Do you want to continue (Yes/No): \")).strip()\n",
        "  if not ans.lower() == \"yes\":\n",
        "    break\n",
        "requiredcity = input(\"Enter the city for which you want to check temperature? \").strip()\n",
        "print(f\"The temperature of %s is %.2f °F \"%(requiredcity,city_temp_dict[requiredcity]))"
      ],
      "execution_count": 3,
      "outputs": [
        {
          "output_type": "stream",
          "text": [
            "Enter the city name: mumbai\n",
            "Enter the temperature in fahrenheit: 45\n",
            "Do you want to continue (Yes/No): \n",
            "yes\n",
            "Enter the city name: mumbai\n",
            "Enter the temperature in fahrenheit: 76\n",
            "Do you want to continue (Yes/No): \n",
            "n\n",
            "Enter the city for which you want to check temperature? mumbai\n",
            "The temperature of mumbai is 76.00 °F \n"
          ],
          "name": "stdout"
        }
      ]
    },
    {
      "cell_type": "markdown",
      "metadata": {
        "id": "NL7WLVd4-uqL"
      },
      "source": [
        "<b>Q. 4 Write a Python program to convert list to list of dictionaries.\n",
        "\n",
        "Sample lists: [\"Black\", \"Red\", \"Maroon\", \"Yellow\"], [\"#000000\", \"#FF0000\", \"#800000\", \"#FFFF00\"]\n",
        "\n",
        "Expected Output: [{'color_name': 'Black', 'color_code': '#000000'}, {'color_name': 'Red', 'color_code': '#FF0000'}, {'color_name': 'Maroon', 'color_code': '#800000'}, {'color_name': 'Yellow', 'color_code': '#FFFF00'}]\n",
        "\n",
        "</b>"
      ]
    },
    {
      "cell_type": "code",
      "metadata": {
        "id": "2oyVKhmU-uvT",
        "colab": {
          "base_uri": "https://localhost:8080/"
        },
        "outputId": "3b149010-7ad5-45ed-c4e9-c67afcdf4fcc"
      },
      "source": [
        "color_name = [\"Black\", \"Red\", \"Maroon\", \"Yellow\"]\n",
        "color_code = [\"#000000\", \"#FF0000\", \"#800000\", \"#FFFF00\"]\n",
        "print([{'color_name': val1, 'color_code': val2} for val1, val2 in zip(color_name, color_code)])"
      ],
      "execution_count": 4,
      "outputs": [
        {
          "output_type": "stream",
          "text": [
            "[{'color_name': 'Black', 'color_code': '#000000'}, {'color_name': 'Red', 'color_code': '#FF0000'}, {'color_name': 'Maroon', 'color_code': '#800000'}, {'color_name': 'Yellow', 'color_code': '#FFFF00'}]\n"
          ],
          "name": "stdout"
        }
      ]
    },
    {
      "cell_type": "markdown",
      "metadata": {
        "id": "p__r7_vr-u0t"
      },
      "source": [
        "<b>Q. 5 We have following information on Employees and their Salary (Salary is in lakhs),\n",
        "\n",
        "Employee\tSalary </br>\n",
        "John\t14</br>\n",
        "Smith\t13</br>\n",
        "Alice\t32</br>\n",
        "Daneil\t21</br>\n",
        "</b>\n",
        "1)Using above create a dictionary of Employees and their Salary\n",
        "\n",
        "2)Write a program that asks user for three type of inputs,\n",
        "\n",
        "  <b>a) print</b>: if user enter print then it should print all Employees with  \n",
        "  their Salary in this format,</br>\n",
        "  John ==>14</br>\n",
        "  Smith ==>13</br>\n",
        "  Alice ==>32</br>\n",
        "  Daneil ==>21</br>\n",
        "  <b>b) add</b>: if user input adds then it should further ask for an Employee \n",
        "  name to add. If Employee already exists in our dataset then it should print \n",
        "  that it exists and do nothing. If it doesn't then it asks for Salary and add \n",
        "  that new Employee/Salary in our dictionary and print it</br>\n",
        "  <b>c) remove</b>: when user inputs remove it should ask for an Employee to \n",
        "  remove. If an Employee exists in our dictionary then remove it and print a \n",
        "  new dictionary using format shown above in (a). Else print that Employee \n",
        "  doesn't exist!</br>\n",
        "  <b>d) query</b>: on this again ask the user for which Employee he or she \n",
        "  wants to query. When a user inputs that Employee it will print the Salary of \n",
        "  that Employee."
      ]
    },
    {
      "cell_type": "code",
      "metadata": {
        "id": "6VIrA4HT-u5h",
        "colab": {
          "base_uri": "https://localhost:8080/"
        },
        "outputId": "fa3f380c-3745-47d7-fcb1-0a0ad98af309"
      },
      "source": [
        "empl = ['John','Smith','Alice','Daniel']\n",
        "sal = [14, 13, 32, 21]\n",
        "Dict = dict(zip(empl, sal))\n",
        "while(True):\n",
        "  val= input(\"Enter your choice (print or add or remove or query): \")\n",
        "  if val == 'print':    # print data\n",
        "    for a in Dict:\n",
        "      print(a,\"==>\",Dict[f\"{a}\"])\n",
        "  elif val == 'add':    # add employee\n",
        "    emp= input(\"Enter the name of the Employee to be added: \")\n",
        "    if emp.title() in Dict.keys():\n",
        "      print(f\"{emp} name is already existing!\")\n",
        "    else:\n",
        "      salr = input(f\"Enter the salary of the {emp} \")\n",
        "      Dict.update({emp : salr})\n",
        "      print(Dict)\n",
        "  elif val == 'remove':   # remove employee\n",
        "    name = input(\"Enter the name of the employee to be removed? \")\n",
        "    if name in Dict:\n",
        "      Dict.pop(name)\n",
        "      print(Dict)\n",
        "    else:\n",
        "      print(f\"Sorry!!, {name} doesn't exist in the data!\")\n",
        "  elif val == 'query':    # \n",
        "    emp= input(\"Enter the name of the employee you want to query: \").title()\n",
        "    if emp in Dict.keys():\n",
        "      print(f\"The salary of {emp} is {Dict[emp]}\")\n",
        "    else:\n",
        "      print(f\"The employee named {emp} doesn't exist!!\")\n",
        "  else:\n",
        "    print(\"Enter a valid choice\")\n",
        "  ans = input(print(f\"Do you want to continue (Yes/No): \")).strip()\n",
        "  if not ans.lower() == \"yes\":\n",
        "    break"
      ],
      "execution_count": 5,
      "outputs": [
        {
          "output_type": "stream",
          "text": [
            "Enter your choice (print or add or remove or query): add\n",
            "Enter the name of the Employee to be added: mukesh\n",
            "Enter the salary of the mukesh 45000\n",
            "{'John': 14, 'Smith': 13, 'Alice': 32, 'Daniel': 21, 'mukesh': '45000'}\n",
            "Do you want to continue (Yes/No): \n",
            "no\n"
          ],
          "name": "stdout"
        }
      ]
    },
    {
      "cell_type": "markdown",
      "metadata": {
        "id": "3_itb6Ro-u-M"
      },
      "source": [
        "# <h1><b> Questions on Sets-</b></h1>\n",
        "\n",
        "<b>Q.1 What is the difference between a set and a frozenset? Create any set and try to use frozenset(setname).\n",
        "\n",
        "Ans) A Set is an unordered collection of items.Main feature of a set is that every element in a set is unique.A Set is created by placing all the items (elements) inside curly braces {} and separated by comma.\n",
        "\n",
        "A Frozenset can be made from a set by using frozenset() keyword. It is basically an immutable type of set just like tuple.</b>\n",
        "\n"
      ]
    },
    {
      "cell_type": "code",
      "metadata": {
        "id": "L4CoPr0F-vDE",
        "colab": {
          "base_uri": "https://localhost:8080/"
        },
        "outputId": "b3854515-9a2d-427d-80c6-16a2b5704900"
      },
      "source": [
        "a = set(\"FrozenSet\")\n",
        "print(a)\n",
        "print(type(a))\n",
        "\n",
        "a.remove(\"t\")\n",
        "print(a)"
      ],
      "execution_count": 9,
      "outputs": [
        {
          "output_type": "stream",
          "text": [
            "{'n', 'F', 'e', 'o', 'S', 'z', 't', 'r'}\n",
            "<class 'set'>\n",
            "{'n', 'F', 'e', 'o', 'S', 'z', 'r'}\n"
          ],
          "name": "stdout"
        }
      ]
    },
    {
      "cell_type": "markdown",
      "metadata": {
        "id": "ug4wWvYP-vIK"
      },
      "source": [
        "<b>Q.2 Find the elements in a given set that are not in another set</b>\n",
        "\n",
        "    set1 = {10,20,30,40,50}\n",
        "\n",
        "    set2 = {40,50,60,70,80}\n",
        "\n",
        " Difference between set1 and set2 is {10,20,30}"
      ]
    },
    {
      "cell_type": "code",
      "metadata": {
        "id": "72cuiod2-vNP",
        "colab": {
          "base_uri": "https://localhost:8080/"
        },
        "outputId": "cc394fea-234e-4b07-84a9-64626e79e38e"
      },
      "source": [
        "set1 = {10,20,30,40,50}\n",
        "set2 = {40,50,60,70,80}\n",
        "print(\"Original sets given:\")\n",
        "print(set1)\n",
        "print(set2)\n",
        "print(f\"Elements present in set1 but not in set2: {set1.difference(set2)}\")\n",
        "print(f\"Elements present in set2 but not in set1: {set2.difference(set1)}\")"
      ],
      "execution_count": 8,
      "outputs": [
        {
          "output_type": "stream",
          "text": [
            "Original sets given:\n",
            "{40, 10, 50, 20, 30}\n",
            "{70, 40, 80, 50, 60}\n",
            "Elements present in set1 but not in set2: {10, 20, 30}\n",
            "Elements present in set2 but not in set1: {80, 60, 70}\n"
          ],
          "name": "stdout"
        }
      ]
    },
    {
      "cell_type": "code",
      "metadata": {
        "id": "scSyUtjhDoH1"
      },
      "source": [
        ""
      ],
      "execution_count": 8,
      "outputs": []
    }
  ]
}