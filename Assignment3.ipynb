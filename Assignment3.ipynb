{
  "nbformat": 4,
  "nbformat_minor": 0,
  "metadata": {
    "colab": {
      "name": "Assignment3.ipynb",
      "provenance": [],
      "collapsed_sections": [],
      "include_colab_link": true
    },
    "kernelspec": {
      "name": "python3",
      "display_name": "Python 3"
    },
    "language_info": {
      "name": "python"
    }
  },
  "cells": [
    {
      "cell_type": "markdown",
      "metadata": {
        "id": "view-in-github",
        "colab_type": "text"
      },
      "source": [
        "<a href=\"https://colab.research.google.com/github/mkmahto2/summerintership_goeduhub/blob/main/Assignment3.ipynb\" target=\"_parent\"><img src=\"https://colab.research.google.com/assets/colab-badge.svg\" alt=\"Open In Colab\"/></a>"
      ]
    },
    {
      "cell_type": "markdown",
      "metadata": {
        "id": "37Msq5cqHavy"
      },
      "source": [
        "# ***Assignment/Task 3***"
      ]
    },
    {
      "cell_type": "markdown",
      "metadata": {
        "id": "PIk4Qvp6HnDm"
      },
      "source": [
        "# ***GO_STD_GO_STP_9639***"
      ]
    },
    {
      "cell_type": "markdown",
      "metadata": {
        "id": "4lFAEfcpHxSQ"
      },
      "source": [
        "# ***Q.1 Write a Python Program to sort (ascending and descending) a dictionary by value***\n",
        "\n",
        "\n",
        "\n"
      ]
    },
    {
      "cell_type": "code",
      "metadata": {
        "id": "xSoV7jZbFDg3",
        "colab": {
          "base_uri": "https://localhost:8080/"
        },
        "outputId": "f29dbf92-54ca-49d5-ff17-41a23bf4cb86"
      },
      "source": [
        "import operator\n",
        "\n",
        "d = {0:1, 2:4, 1:5, 3:6}\n",
        "\n",
        "sorted_d = sorted(d.items(), key=operator.itemgetter(1))\n",
        "\n",
        "print(sorted_d)\n",
        "\n",
        "sorted_d = sorted(d.items(), key=operator.itemgetter(1),reverse=True)\n",
        "\n",
        "print(sorted_d)\n"
      ],
      "execution_count": null,
      "outputs": [
        {
          "output_type": "stream",
          "text": [
            "[(0, 1), (2, 4), (1, 5), (3, 6)]\n",
            "[(3, 6), (1, 5), (2, 4), (0, 1)]\n"
          ],
          "name": "stdout"
        }
      ]
    },
    {
      "cell_type": "markdown",
      "metadata": {
        "id": "UDOed0G8L7uj"
      },
      "source": [
        "# Q.2 Write a Python Program to add a key to a dictionary.\n",
        "# Sample Dictionary : {0: 10, 1: 20}\n",
        "# Expected Result : {0: 10, 1: 20, 2: 30}"
      ]
    },
    {
      "cell_type": "code",
      "metadata": {
        "colab": {
          "base_uri": "https://localhost:8080/"
        },
        "id": "3wPjJW2aL40o",
        "outputId": "9d04f775-ce55-4327-af53-f98ba6c8ec5c"
      },
      "source": [
        "d = {0:10, 1:20}\n",
        "print(\"Sample Dictionary\" ,d)\n",
        "d.update({2:30})\n",
        "print(\"Expected Result\" ,d)"
      ],
      "execution_count": null,
      "outputs": [
        {
          "output_type": "stream",
          "text": [
            "Sample Dictionary {0: 10, 1: 20}\n",
            "Expected Result {0: 10, 1: 20, 2: 30}\n"
          ],
          "name": "stdout"
        }
      ]
    },
    {
      "cell_type": "markdown",
      "metadata": {
        "id": "ewbzIJCpMoZG"
      },
      "source": [
        "Q.3 Write a  program asks for City name and Temperature and builds a dictionary using that Later on you can input City name and it will tell you the Temperature of that City."
      ]
    },
    {
      "cell_type": "code",
      "metadata": {
        "colab": {
          "base_uri": "https://localhost:8080/"
        },
        "id": "lNRh0m9JMvDu",
        "outputId": "7c1435f8-dbf5-4f6c-b2c8-dc92971b6f1a"
      },
      "source": [
        "city_temp = {\"Nawabshah\" : 48, \"Karachi\" : 39, \"Murree\" : 16, \"Auckland\" : 22}\n",
        "print(city_temp['Karachi'])"
      ],
      "execution_count": null,
      "outputs": [
        {
          "output_type": "stream",
          "text": [
            "39\n"
          ],
          "name": "stdout"
        }
      ]
    },
    {
      "cell_type": "markdown",
      "metadata": {
        "id": "97anVVDBN4Bp"
      },
      "source": [
        "# *Q. 4 Write a Python program to convert list to list of dictionaries.*"
      ]
    },
    {
      "cell_type": "code",
      "metadata": {
        "colab": {
          "base_uri": "https://localhost:8080/"
        },
        "id": "QWp5N4oYOAys",
        "outputId": "1beb4413-142f-471b-ea47-08a5fb1b03ea"
      },
      "source": [
        "color_name = [\"Black\",\"Red\",\"Maroon\",\"Yellow\"]\n",
        "color_code = [\"#000000\",\"#FF0000\",\"#800000\",\"#FFFF00\"]\n",
        "\n",
        "print([{'color_name' : f, 'color_code' : c } for f, c in zip(color_name,color_code)])"
      ],
      "execution_count": null,
      "outputs": [
        {
          "output_type": "stream",
          "text": [
            "[{'color_name': 'Black', 'color_code': '#000000'}, {'color_name': 'Red', 'color_code': '#FF0000'}, {'color_name': 'Maroon', 'color_code': '#800000'}, {'color_name': 'Yellow', 'color_code': '#FFFF00'}]\n"
          ],
          "name": "stdout"
        }
      ]
    },
    {
      "cell_type": "markdown",
      "metadata": {
        "id": "vPVRt1lePHPx"
      },
      "source": [
        "Q. 5 We have following information on Employees and their Salary (Salary is in lakhs),\n"
      ]
    },
    {
      "cell_type": "code",
      "metadata": {
        "id": "j8QilC2PPeh0"
      },
      "source": [
        "emp_sal = {\"John\" : 14, \"Smith\" : 13, \"Alice\" : 32 , \"Daniel\" : 21}"
      ],
      "execution_count": null,
      "outputs": []
    },
    {
      "cell_type": "code",
      "metadata": {
        "colab": {
          "base_uri": "https://localhost:8080/"
        },
        "id": "pCnTykzNPt5V",
        "outputId": "ebfc93c3-dbfc-4c35-ee4e-5cbb00255767"
      },
      "source": [
        "user_input= input(\"Enter your choice :print/add/remove/query:\")\n",
        "if user_input=='print':\n",
        " print('John==>14')\n",
        " print('Smith==>13')\n",
        " print('Alice==>32')\n",
        " print('Daneil==>21')\n",
        "elif user_input=='add':\n",
        " emp= input(\"Enter the name of the Employee to be added :\")\n",
        " if emp in emp_sal.keys():\n",
        "  print(\"Employee name already exists\")\n",
        " else:\n",
        "  sal=input(f\"Enter the salary of {emp}\")\n",
        "  emp_sal.update({emp:sal})\n",
        "  print(emp_sal)\n",
        "elif user_input=='remove':\n",
        " name= input(\"Enter the name to be removed: \")\n",
        " if name in emp_sal:\n",
        "  emp_sal.pop(name)\n",
        "  print(emp_sal)\n",
        " else:\n",
        "  print(\"Employee doesn't exist\")\n",
        "elif user_input=='query':\n",
        "  employee= input(\"Enter the name of the employee you want to query\")\n",
        "  if employee in emp_sal.keys():\n",
        "    print(f\"The salary is ->{emp_sal[employee]}\")\n",
        "  else:\n",
        "    print(\"The employee does not exist\")\n"
      ],
      "execution_count": null,
      "outputs": [
        {
          "output_type": "stream",
          "text": [
            "Enter your choice :print/add/remove/query:query\n",
            "Enter the name of the employee you want to querySam\n",
            "The employee does not exist\n"
          ],
          "name": "stdout"
        }
      ]
    },
    {
      "cell_type": "markdown",
      "metadata": {
        "id": "m4E7fE3yQm8N"
      },
      "source": [
        "Q.1 What is the difference between a set and a frozenset? Create any set and try to use\n",
        "frozenset(setname).\n",
        "\n",
        "Ans.Frozen set is just an immutable version of a Python set object. While elements of a set can\n",
        "be modied at any time, elements of the frozen set remain the same after creation. Due to this,\n",
        "frozen sets can be used as keys in Dictionary or as elements of another set.\n"
      ]
    },
    {
      "cell_type": "code",
      "metadata": {
        "colab": {
          "base_uri": "https://localhost:8080/"
        },
        "id": "V300e0cgQ5yB",
        "outputId": "298b5f47-0677-464b-b027-878450c197db"
      },
      "source": [
        "x = set(\"Sanaullah Aman\")\n",
        "print(x)\n",
        "print(type(x))"
      ],
      "execution_count": null,
      "outputs": [
        {
          "output_type": "stream",
          "text": [
            "{' ', 'l', 'u', 'A', 'm', 'a', 'n', 'S', 'h'}\n",
            "<class 'set'>\n"
          ],
          "name": "stdout"
        }
      ]
    },
    {
      "cell_type": "code",
      "metadata": {
        "colab": {
          "base_uri": "https://localhost:8080/"
        },
        "id": "VrENjALDRGrM",
        "outputId": "cd844d21-3c79-4d17-ad61-f096707fba41"
      },
      "source": [
        "frozenset(x)\n",
        "print(x)"
      ],
      "execution_count": null,
      "outputs": [
        {
          "output_type": "stream",
          "text": [
            "{' ', 'l', 'u', 'A', 'm', 'a', 'n', 'S', 'h'}\n"
          ],
          "name": "stdout"
        }
      ]
    },
    {
      "cell_type": "markdown",
      "metadata": {
        "id": "CTDSM79fRYic"
      },
      "source": [
        "Q.2 Find the elements in a given set that are not in another set\n",
        "set1 = {10,20,30,40,50}\n",
        "set2 = {40,50,60,70,80}\n",
        "Difference between set1 and set2 is {10,20,30}"
      ]
    },
    {
      "cell_type": "code",
      "metadata": {
        "colab": {
          "base_uri": "https://localhost:8080/"
        },
        "id": "UfruQS3JRZak",
        "outputId": "6b1146d9-00ab-4636-9e29-2d818533e939"
      },
      "source": [
        "set1 = {10,20,30,40,50}\n",
        "set2 = {40,50,60,70,80}\n",
        "set_differece = set1.difference(set2)\n",
        "\n",
        "print(set_differece)"
      ],
      "execution_count": null,
      "outputs": [
        {
          "output_type": "stream",
          "text": [
            "{10, 20, 30}\n"
          ],
          "name": "stdout"
        }
      ]
    },
    {
      "cell_type": "code",
      "metadata": {
        "id": "rh1-aR1kST7W"
      },
      "source": [
        ""
      ],
      "execution_count": null,
      "outputs": []
    }
  ]
}