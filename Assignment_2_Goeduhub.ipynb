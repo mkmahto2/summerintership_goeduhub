{
  "nbformat": 4,
  "nbformat_minor": 0,
  "metadata": {
    "kernelspec": {
      "display_name": "Python 3",
      "language": "python",
      "name": "python3"
    },
    "language_info": {
      "codemirror_mode": {
        "name": "ipython",
        "version": 3
      },
      "file_extension": ".py",
      "mimetype": "text/x-python",
      "name": "python",
      "nbconvert_exporter": "python",
      "pygments_lexer": "ipython3",
      "version": "3.7.6"
    },
    "colab": {
      "name": "Assignment 2-Goeduhub.ipynb",
      "provenance": [],
      "collapsed_sections": [
        "36Cl2NXRyUIe",
        "3T39cw5zyUIg",
        "QxPqTwZCyUIi",
        "PNaPAT5WyUIn",
        "azmCZ4kzyUIr",
        "2Yz2wl6cyUIv",
        "Y9QMZud7yUIw",
        "UCrtMchmyUIx",
        "Q3FgN3v2yUIy",
        "T1UAHkhiyUIz",
        "nb8Gzc3-yUIz",
        "SYzmQXtuyUI0",
        "vqFG4AaNyUI1",
        "N4ZiarVdyUI2",
        "nuu9b42lyUI3",
        "F6KE4fxTyUI4",
        "gklZsYLRyUI5",
        "2sJHRo9eyUI6",
        "ns9rbaJkyUI7",
        "pFyB42qJyUI9",
        "4JryzOOSyUJD",
        "ifDMpIPtyUJF",
        "4j9eo08fyUJH"
      ],
      "include_colab_link": true
    }
  },
  "cells": [
    {
      "cell_type": "markdown",
      "metadata": {
        "id": "view-in-github",
        "colab_type": "text"
      },
      "source": [
        "<a href=\"https://colab.research.google.com/github/mkmahto2/summerintership_goeduhub/blob/main/Assignment_2_Goeduhub.ipynb\" target=\"_parent\"><img src=\"https://colab.research.google.com/assets/colab-badge.svg\" alt=\"Open In Colab\"/></a>"
      ]
    },
    {
      "cell_type": "markdown",
      "metadata": {
        "id": "ZiImT5WbyUHp"
      },
      "source": [
        "## Assignment 2 \n",
        "**Name: Mukesh Kumar Mahto**\n",
        "\n",
        "**Registration Id: GO_STP-9639**\n",
        "\n",
        "---\n",
        "\n"
      ]
    },
    {
      "cell_type": "markdown",
      "metadata": {
        "id": "dZnR8g-HyUHx"
      },
      "source": [
        "#### 1. Is a list mutable? \n",
        "<b>&nbsp;&nbsp;&nbsp;&nbsp;Ans: Yes lists are mutable</b>\n",
        "\n",
        "\n",
        "\n",
        "\n"
      ]
    },
    {
      "cell_type": "code",
      "metadata": {
        "colab": {
          "base_uri": "https://localhost:8080/"
        },
        "id": "iWFjtMNqyUH0",
        "outputId": "2d030c70-b08c-4d06-ea74-42a9c201243c"
      },
      "source": [
        "#list creation\n",
        "list1 = [1, 1.5, 'Hello', 10]\n",
        "\n",
        "print(f\"List before changing the element: {list1}\")\n",
        "list1[0] = 5\n",
        "print(f\"List after changing the element: {list1}\")"
      ],
      "execution_count": 1,
      "outputs": [
        {
          "output_type": "stream",
          "text": [
            "List before changing the element: [1, 1.5, 'Hello', 10]\n",
            "List after changing the element: [5, 1.5, 'Hello', 10]\n"
          ],
          "name": "stdout"
        }
      ]
    },
    {
      "cell_type": "markdown",
      "metadata": {
        "id": "gN1Qwx-DyUH7"
      },
      "source": [
        "\n",
        "\n",
        "---\n",
        "\n",
        "\n",
        "#### 2. Does a list need to be homogeneous?\n",
        "<b>&nbsp;&nbsp;&nbsp;&nbsp;Ans: Lists can be either homogeneous or heterogeneous in Python</b>"
      ]
    },
    {
      "cell_type": "markdown",
      "metadata": {
        "id": "XfPXVS7KyUH8"
      },
      "source": [
        "#### 3. What is the difference between a list and a tuple.\n",
        "<b>&nbsp;&nbsp;&nbsp;&nbsp;Ans: </b>\n",
        "\n",
        "| List | Tuple | \n",
        "| -: | -: |\n",
        "| Lists are mutable | Tuples are immutable |\n",
        "| The list is better for performing operations, such as insertion and deletion. | Tuple data type is appropriate for accessing the elements |\n",
        "| Implication of iterations is Time-consuming | The implication of iterations is comparatively Faster |\n",
        "| Lists consume more memory | Tuple consume less memory as compared to the list |"
      ]
    },
    {
      "cell_type": "markdown",
      "metadata": {
        "id": "6qI2Q8K0yUH9"
      },
      "source": [
        "\n",
        "\n",
        "---\n",
        "\n",
        "\n",
        "### 4. How to find the number of elements in the list?\n",
        "<b>&nbsp;&nbsp;&nbsp;&nbsp;Ans: We can find the length of the list using a built-in function len() </b>"
      ]
    },
    {
      "cell_type": "code",
      "metadata": {
        "colab": {
          "base_uri": "https://localhost:8080/"
        },
        "id": "ZIKyAqoCyUH_",
        "outputId": "151fe436-8968-4c2b-864c-292cabbcb8ca"
      },
      "source": [
        "print(f\"List1 : {list1}\")\n",
        "print(f\"Length of above list: {len(list1)}\")"
      ],
      "execution_count": 2,
      "outputs": [
        {
          "output_type": "stream",
          "text": [
            "List1 : [5, 1.5, 'Hello', 10]\n",
            "Length of above list: 4\n"
          ],
          "name": "stdout"
        }
      ]
    },
    {
      "cell_type": "markdown",
      "metadata": {
        "id": "3eim6yI2yUIB"
      },
      "source": [
        "\n",
        "\n",
        "---\n",
        "\n",
        "\n",
        "#### 5. How to check whether the list is empty or not?\n",
        "<b>&nbsp;&nbsp;&nbsp;&nbsp;Ans: We can check using 3 approaches mentioned below </b>"
      ]
    },
    {
      "cell_type": "code",
      "metadata": {
        "colab": {
          "base_uri": "https://localhost:8080/"
        },
        "id": "AoUSlpdpyUID",
        "outputId": "77340ae0-53e4-4fe9-a600-9b9f1649f8ce"
      },
      "source": [
        "'''\n",
        "Approach 1\n",
        "Using Boolean contest\n",
        "'''\n",
        "\n",
        "list2=[]\n",
        "if not list2:\n",
        "    print(\"The list is empty\")\n",
        "else:\n",
        "    print(\"The list is not empty\")"
      ],
      "execution_count": 3,
      "outputs": [
        {
          "output_type": "stream",
          "text": [
            "The list is empty\n"
          ],
          "name": "stdout"
        }
      ]
    },
    {
      "cell_type": "code",
      "metadata": {
        "colab": {
          "base_uri": "https://localhost:8080/"
        },
        "id": "lLgt1T2MyUIH",
        "outputId": "f5f061bb-9ffb-48c6-b761-4a76fea23629"
      },
      "source": [
        "'''\n",
        "Approach 2\n",
        "Using len()\n",
        "'''\n",
        "\n",
        "list2=[]\n",
        "if len(list2)==0:\n",
        "    print(\"The list is empty\")\n",
        "else:\n",
        "    print(\"The list is not empty\")"
      ],
      "execution_count": 4,
      "outputs": [
        {
          "output_type": "stream",
          "text": [
            "The list is empty\n"
          ],
          "name": "stdout"
        }
      ]
    },
    {
      "cell_type": "code",
      "metadata": {
        "colab": {
          "base_uri": "https://localhost:8080/"
        },
        "id": "NVGI4bEsyUIJ",
        "outputId": "8f675450-f6b3-4af2-d40d-c1343bfc680d"
      },
      "source": [
        "'''\n",
        "Approach 3\n",
        "Using bool()\n",
        "'''\n",
        "\n",
        "list2=[]\n",
        "if bool(list2)==False:\n",
        "    print(\"The list is empty\")\n",
        "else:\n",
        "    print(\"The list is not empty\")"
      ],
      "execution_count": 5,
      "outputs": [
        {
          "output_type": "stream",
          "text": [
            "The list is empty\n"
          ],
          "name": "stdout"
        }
      ]
    },
    {
      "cell_type": "markdown",
      "metadata": {
        "id": "sBg17cU2yUIM"
      },
      "source": [
        "\n",
        "\n",
        "---\n",
        "\n",
        "\n",
        "#### 6. How to find the first and last element of the list?\n",
        "<b> &nbsp;&nbsp;&nbsp;&nbsp;Ans: We can find first and last element using 3 approaches mentioned below"
      ]
    },
    {
      "cell_type": "code",
      "metadata": {
        "colab": {
          "base_uri": "https://localhost:8080/"
        },
        "id": "lWXxmbNfyUIN",
        "outputId": "5d878197-1594-40bf-8482-7e4940fdc787"
      },
      "source": [
        "'''\n",
        "Approach 1: list indexing\n",
        "'''\n",
        "\n",
        "print(f\"List1 : {list1}\")\n",
        "result=[list1[0],list1[-1]]\n",
        "print(f\"First element: {result[0]} \\nLast element : {result[1]}\")"
      ],
      "execution_count": 6,
      "outputs": [
        {
          "output_type": "stream",
          "text": [
            "List1 : [5, 1.5, 'Hello', 10]\n",
            "First element: 5 \n",
            "Last element : 10\n"
          ],
          "name": "stdout"
        }
      ]
    },
    {
      "cell_type": "code",
      "metadata": {
        "colab": {
          "base_uri": "https://localhost:8080/"
        },
        "id": "700fkV14yUIQ",
        "outputId": "29c6ba98-1c97-42db-9bc8-d1d3c0b280a3"
      },
      "source": [
        "'''\n",
        "Approach 2: list slicing\n",
        "'''\n",
        "\n",
        "print(f\"List1 : {list1}\")\n",
        "result=list1[::len(list1)-1]\n",
        "print(f\"First element: {result[0]} \\nLast element : {result[1]}\")"
      ],
      "execution_count": 7,
      "outputs": [
        {
          "output_type": "stream",
          "text": [
            "List1 : [5, 1.5, 'Hello', 10]\n",
            "First element: 5 \n",
            "Last element : 10\n"
          ],
          "name": "stdout"
        }
      ]
    },
    {
      "cell_type": "code",
      "metadata": {
        "colab": {
          "base_uri": "https://localhost:8080/"
        },
        "id": "kHVlVpvgyUIR",
        "outputId": "b967e30d-5122-41a7-93cd-976c8ae468f7"
      },
      "source": [
        "'''\n",
        "Approach 3: list comprehension\n",
        "'''\n",
        "\n",
        "print(f\"List1 : {list1}\")\n",
        "result=[list1[index] for index in (0,-1)]\n",
        "print(f\"First element: {result[0]} \\nLast element : {result[1]}\")"
      ],
      "execution_count": 8,
      "outputs": [
        {
          "output_type": "stream",
          "text": [
            "List1 : [5, 1.5, 'Hello', 10]\n",
            "First element: 5 \n",
            "Last element : 10\n"
          ],
          "name": "stdout"
        }
      ]
    },
    {
      "cell_type": "markdown",
      "metadata": {
        "id": "nCz_2lSsyUIT"
      },
      "source": [
        "\n",
        "\n",
        "---\n",
        "\n",
        "\n",
        "#### 7. How to find the largest and lowest value in the list?\n",
        "\n",
        "\n",
        "\n",
        "\n",
        "<b> &nbsp;&nbsp;&nbsp;&nbsp;Ans: We can find the lowest and largest valu in a list using builtin functions min() and max() </b>"
      ]
    },
    {
      "cell_type": "code",
      "metadata": {
        "colab": {
          "base_uri": "https://localhost:8080/"
        },
        "id": "fEniACPHyUIU",
        "outputId": "cdf6168c-9c84-490f-9ffd-04164623cce3"
      },
      "source": [
        "list3 = [10, 6, 15, 9, 12]\n",
        "print(f\"List: {list3}\")\n",
        "print(f\"Lowest value: {min(list3)} \\nLargest Value: {max(list3)}\")"
      ],
      "execution_count": 9,
      "outputs": [
        {
          "output_type": "stream",
          "text": [
            "List: [10, 6, 15, 9, 12]\n",
            "Lowest value: 6 \n",
            "Largest Value: 15\n"
          ],
          "name": "stdout"
        }
      ]
    },
    {
      "cell_type": "markdown",
      "metadata": {
        "id": "-FxX_TBXyUIV"
      },
      "source": [
        "\n",
        "\n",
        "---\n",
        "\n",
        "\n",
        "#### 8. How to access elements of the list?\n",
        "<b> &nbsp;&nbsp;&nbsp;&nbsp;Ans: We can select particualar element based on its index values  </b>\n",
        "+ Positive indexing\n",
        " &nbsp;&nbsp;&nbsp;&nbsp;&nbsp;&nbsp;&nbsp;&nbsp;&nbsp;&nbsp;&nbsp;&nbsp;&nbsp;&nbsp;&nbsp;&nbsp;&nbsp;&nbsp;&nbsp; Index values are from 0 to length-1\n",
        "+ Negative indexing\n",
        " &nbsp;&nbsp;&nbsp;&nbsp;&nbsp;&nbsp;&nbsp;&nbsp;&nbsp;&nbsp;&nbsp;&nbsp;&nbsp;&nbsp;&nbsp;&nbsp;&nbsp;&nbsp; Index values starts from -1\n",
        "+ Range of indexes\n",
        " &nbsp;&nbsp;&nbsp;&nbsp;&nbsp;&nbsp;&nbsp;&nbsp;&nbsp;&nbsp;&nbsp;&nbsp;&nbsp;&nbsp;&nbsp;&nbsp;&nbsp;&nbsp;  You can specify a range of indexes by specifying where to start(included) and where to end(not included) the range.\n",
        "+ Range of negative indexes\n",
        " &nbsp;&nbsp;&nbsp;&nbsp; We can give negative range too."
      ]
    },
    {
      "cell_type": "code",
      "metadata": {
        "colab": {
          "base_uri": "https://localhost:8080/"
        },
        "id": "UFBgCoDHyUIV",
        "outputId": "2e9cbd5c-a27a-4563-80cf-5b352f7416c1"
      },
      "source": [
        "# Positive index\n",
        "list3[2]"
      ],
      "execution_count": 10,
      "outputs": [
        {
          "output_type": "execute_result",
          "data": {
            "text/plain": [
              "15"
            ]
          },
          "metadata": {
            "tags": []
          },
          "execution_count": 10
        }
      ]
    },
    {
      "cell_type": "code",
      "metadata": {
        "colab": {
          "base_uri": "https://localhost:8080/"
        },
        "id": "nIlX_WJuyUIX",
        "outputId": "a2d2db0a-0796-43c7-be41-f986b297510f"
      },
      "source": [
        "# Negetive index\n",
        "list3[-3]"
      ],
      "execution_count": 11,
      "outputs": [
        {
          "output_type": "execute_result",
          "data": {
            "text/plain": [
              "15"
            ]
          },
          "metadata": {
            "tags": []
          },
          "execution_count": 11
        }
      ]
    },
    {
      "cell_type": "code",
      "metadata": {
        "colab": {
          "base_uri": "https://localhost:8080/"
        },
        "id": "_4mesAEQyUIZ",
        "outputId": "4a6d5cb4-be8d-4d74-cc7b-be16c21f0364"
      },
      "source": [
        "# Positive range\n",
        "list3[1:5]"
      ],
      "execution_count": 12,
      "outputs": [
        {
          "output_type": "execute_result",
          "data": {
            "text/plain": [
              "[6, 15, 9, 12]"
            ]
          },
          "metadata": {
            "tags": []
          },
          "execution_count": 12
        }
      ]
    },
    {
      "cell_type": "code",
      "metadata": {
        "colab": {
          "base_uri": "https://localhost:8080/"
        },
        "id": "8i42K1KGyUIb",
        "outputId": "6809e5c8-e505-4a69-bb20-31259a06e3f3"
      },
      "source": [
        "# Negative range\n",
        "list3[-4:-1]"
      ],
      "execution_count": 13,
      "outputs": [
        {
          "output_type": "execute_result",
          "data": {
            "text/plain": [
              "[6, 15, 9]"
            ]
          },
          "metadata": {
            "tags": []
          },
          "execution_count": 13
        }
      ]
    },
    {
      "cell_type": "markdown",
      "metadata": {
        "id": "BKTccep_yUIc"
      },
      "source": [
        "\n",
        "\n",
        "---\n",
        "\n",
        "\n",
        "#### 9. Remove elements in a list before a specific index\n",
        "<b> &nbsp;&nbsp;&nbsp;&nbsp;Ans: We can use pop() and send the index as a parameter to remove elements </b>"
      ]
    },
    {
      "cell_type": "code",
      "metadata": {
        "colab": {
          "base_uri": "https://localhost:8080/"
        },
        "id": "dgCjiL2FyUId",
        "outputId": "9480f23a-d8d4-4e04-d210-8bd80c218646"
      },
      "source": [
        "list4 = ['Jonh', 100, 20.5]\n",
        "print(f\"Original list : {list4}\")\n",
        "list4.pop(1)\n",
        "print(f\"List after removing element : {list4}\")"
      ],
      "execution_count": 14,
      "outputs": [
        {
          "output_type": "stream",
          "text": [
            "Original list : ['Jonh', 100, 20.5]\n",
            "List after removing element : ['Jonh', 20.5]\n"
          ],
          "name": "stdout"
        }
      ]
    },
    {
      "cell_type": "markdown",
      "metadata": {
        "id": "36Cl2NXRyUIe"
      },
      "source": [
        "\n",
        "\n",
        "---\n",
        "\n",
        "\n",
        "#### 10. Remove elements in a list between 2 indices\n",
        "<b> &nbsp;&nbsp;&nbsp;&nbsp;&nbsp;Ans: We can use del statement for removing items by index or slice </b>"
      ]
    },
    {
      "cell_type": "code",
      "metadata": {
        "colab": {
          "base_uri": "https://localhost:8080/"
        },
        "id": "4C7KvA0vyUIf",
        "outputId": "f8634467-b66f-4b76-bdbd-25d5d33e6a7f"
      },
      "source": [
        "list5 = list(range(10))\n",
        "print(f\"Before removing: {list5}\")\n",
        "del list5[4:8]\n",
        "print(f\"After removing: {list5}\")"
      ],
      "execution_count": 15,
      "outputs": [
        {
          "output_type": "stream",
          "text": [
            "Before removing: [0, 1, 2, 3, 4, 5, 6, 7, 8, 9]\n",
            "After removing: [0, 1, 2, 3, 8, 9]\n"
          ],
          "name": "stdout"
        }
      ]
    },
    {
      "cell_type": "markdown",
      "metadata": {
        "id": "3T39cw5zyUIg"
      },
      "source": [
        "#### 11. Return every 2nd element in a list between 2 indices\n",
        "<b> &nbsp;&nbsp;&nbsp;&nbsp;&nbsp;Ans: we can do that by giving step while slicing </b>"
      ]
    },
    {
      "cell_type": "code",
      "metadata": {
        "colab": {
          "base_uri": "https://localhost:8080/"
        },
        "id": "ksxPEoKhyUIh",
        "outputId": "21018d04-1866-4cc6-fa16-640aae72292f"
      },
      "source": [
        "list5 = list(range(2, 10))\n",
        "print(f\"Original list: {list5}\")\n",
        "print(f\"Every second element in between 0, 6 : {list5[0:4:2]}\")"
      ],
      "execution_count": 16,
      "outputs": [
        {
          "output_type": "stream",
          "text": [
            "Original list: [2, 3, 4, 5, 6, 7, 8, 9]\n",
            "Every second element in between 0, 6 : [2, 4]\n"
          ],
          "name": "stdout"
        }
      ]
    },
    {
      "cell_type": "markdown",
      "metadata": {
        "id": "QxPqTwZCyUIi"
      },
      "source": [
        "#### 12. Get the first element from each nested list in a list\n",
        "<b> &nbsp;&nbsp;&nbsp;&nbsp;&nbsp;Ans:</b>"
      ]
    },
    {
      "cell_type": "code",
      "metadata": {
        "colab": {
          "base_uri": "https://localhost:8080/"
        },
        "id": "Jvk7UuIsyUIk",
        "outputId": "4896806f-7297-4407-bb78-d5190927eca1"
      },
      "source": [
        "lst = [[1, 2], [3, 4, 5], [6, 7, 8, 9]]\n",
        "res = [item[0] for item in lst]\n",
        "print(res)"
      ],
      "execution_count": 17,
      "outputs": [
        {
          "output_type": "stream",
          "text": [
            "[1, 3, 6]\n"
          ],
          "name": "stdout"
        }
      ]
    },
    {
      "cell_type": "markdown",
      "metadata": {
        "id": "PNaPAT5WyUIn"
      },
      "source": [
        "#### 13. How to modify elements of the list?\n",
        "<b> &nbsp;&nbsp;&nbsp;&nbsp;&nbsp;Ans:</b>"
      ]
    },
    {
      "cell_type": "code",
      "metadata": {
        "colab": {
          "base_uri": "https://localhost:8080/"
        },
        "id": "jOMT8j02yUIo",
        "outputId": "bc5f5050-c659-4df3-8215-a7f46b4c858d"
      },
      "source": [
        "lst = ['Jonh', 100, 20.5]\n",
        "print(f\"Before modification: {lst}\")\n",
        "lst[0] = 10\n",
        "print(f\"After modification: {lst}\")"
      ],
      "execution_count": 18,
      "outputs": [
        {
          "output_type": "stream",
          "text": [
            "Before modification: ['Jonh', 100, 20.5]\n",
            "After modification: [10, 100, 20.5]\n"
          ],
          "name": "stdout"
        }
      ]
    },
    {
      "cell_type": "markdown",
      "metadata": {
        "id": "azmCZ4kzyUIr"
      },
      "source": [
        "#### 14. How to concatenate two lists?\n",
        "<b> &nbsp;&nbsp;&nbsp;&nbsp;&nbsp;Ans:</b>"
      ]
    },
    {
      "cell_type": "code",
      "metadata": {
        "colab": {
          "base_uri": "https://localhost:8080/"
        },
        "id": "vAo3zY8oyUIt",
        "outputId": "d441b40e-a03f-4fa3-f24d-61e02f249763"
      },
      "source": [
        "list_1 = [1, 2, 3]\n",
        "list_2 = [1, 10, 5]\n",
        "print(f\"List1: {list_1}\")\n",
        "print(f\"List2: {list_2}\")\n",
        "print(f\"Concatenated list: {list_1 + list_2}\")"
      ],
      "execution_count": 19,
      "outputs": [
        {
          "output_type": "stream",
          "text": [
            "List1: [1, 2, 3]\n",
            "List2: [1, 10, 5]\n",
            "Concatenated list: [1, 2, 3, 1, 10, 5]\n"
          ],
          "name": "stdout"
        }
      ]
    },
    {
      "cell_type": "markdown",
      "metadata": {
        "id": "2Yz2wl6cyUIv"
      },
      "source": [
        "#### 15.How to add two lists element-wise in python?\n",
        "<b> &nbsp;&nbsp;&nbsp;&nbsp;&nbsp;Ans:</b>"
      ]
    },
    {
      "cell_type": "code",
      "metadata": {
        "colab": {
          "base_uri": "https://localhost:8080/"
        },
        "id": "rlFMO-tYyUIv",
        "outputId": "d4f1dd84-71ff-42c2-97b3-4c2fa461175f"
      },
      "source": [
        "# using zip()\n",
        "print(f\"List1: {list_1}\")\n",
        "print(f\"List2: {list_2}\")\n",
        "res = [i + j for i, j in zip(list_1, list_2)]\n",
        "print(f\"Concatenated list: {res}\")"
      ],
      "execution_count": 20,
      "outputs": [
        {
          "output_type": "stream",
          "text": [
            "List1: [1, 2, 3]\n",
            "List2: [1, 10, 5]\n",
            "Concatenated list: [2, 12, 8]\n"
          ],
          "name": "stdout"
        }
      ]
    },
    {
      "cell_type": "markdown",
      "metadata": {
        "id": "Y9QMZud7yUIw"
      },
      "source": [
        "#### 16. Difference between del and clear?\n",
        "<b> &nbsp;&nbsp;&nbsp;&nbsp;&nbsp;Ans:</b>\n",
        "\n",
        "| del | clear() |\n",
        "| :- | :- |\n",
        "| Remove items by index or slice| Remove all items |\n",
        "| On applying with list name deletes that list| On applying with list name makes the list empty|"
      ]
    },
    {
      "cell_type": "markdown",
      "metadata": {
        "id": "UCrtMchmyUIx"
      },
      "source": [
        "#### 17. Difference between remove and pop?\n",
        "<b> &nbsp;&nbsp;&nbsp;&nbsp;&nbsp;Ans:</b>\n",
        "\n",
        "| remove() | pop() |\n",
        "| :- | :- |\n",
        "| To delete value this method uses the value as a parameter| This method also uses the index as a parameter to delete |\n",
        "| The remove() method doesn’t return any value | pop() returns deleted value |\n",
        "| It throws value error in case of value doesn’t exist in the list | It throws index error in case of an index doesn’t exist in the list |"
      ]
    },
    {
      "cell_type": "markdown",
      "metadata": {
        "id": "Q3FgN3v2yUIy"
      },
      "source": [
        "#### 18. Difference between append and extend?\n",
        "<b> &nbsp;&nbsp;&nbsp;&nbsp;&nbsp;Ans:</b>\n",
        "\n",
        "| append() | extend() |\n",
        "| :- | :- |\n",
        "| Adds its argument as a single element to the end of a list | Iterates over its argument and adding each element to the list and extending the list |\n",
        "| The length of the list increases by one | The length of the list increases by number of elements in it’s argument |"
      ]
    },
    {
      "cell_type": "markdown",
      "metadata": {
        "id": "T1UAHkhiyUIz"
      },
      "source": [
        "#### 19. Difference between indexing and Slicing?\n",
        "<b> &nbsp;&nbsp;&nbsp;&nbsp;&nbsp;Ans:</b>\n",
        "\n",
        "| Indexing | Slicing |\n",
        "| :- | :- |\n",
        "| It means referring to an element of an iterable by its position within the iterable | It means getting a subset of elements from an iterable based on their indices |"
      ]
    },
    {
      "cell_type": "markdown",
      "metadata": {
        "id": "nb8Gzc3-yUIz"
      },
      "source": [
        "#### 20. Difference between sort and sorted?\n",
        "<b> &nbsp;&nbsp;&nbsp;&nbsp;&nbsp;Ans:</b>\n",
        "\n",
        "| sort() | sorted() |\n",
        "| :- | :- |\n",
        "| It will modify the list it is called on | It will create a new list containing a sorted version of the list it is given |\n",
        "| No return value | It returns a sorted list |"
      ]
    },
    {
      "cell_type": "markdown",
      "metadata": {
        "id": "SYzmQXtuyUI0"
      },
      "source": [
        "#### 21. Difference between reverse and reversed?\n",
        "<b> &nbsp;&nbsp;&nbsp;&nbsp;&nbsp;Ans:</b>\n",
        "\n",
        "| reverse() | reversed() |\n",
        "| :- | :- |\n",
        "| The reverse() method doesn't take any arguments. | The reversed() function takes a single parameter |\n",
        "| The reverse() method doesn't return any value. It updates the existing list. | The reversed() function returns an iterator that accesses the given sequence in the reverse order. |"
      ]
    },
    {
      "cell_type": "markdown",
      "metadata": {
        "id": "vqFG4AaNyUI1"
      },
      "source": [
        "#### 22. Difference between copy and deepcopy?\n",
        "<b> &nbsp;&nbsp;&nbsp;&nbsp;&nbsp;Ans:</b>\n",
        "\n",
        "| copy | deepcopy |\n",
        "| :- | :- |\n",
        "| In Python, we use = operator to create a copy of an object. You may think that this creates a new object; it doesn't. It only creates a new variable that shares the reference of the original object. | A deep copy creates a new object and recursively adds the copies of nested objects present in the original elements. Changes in the original object will not be reflected on the new object |"
      ]
    },
    {
      "cell_type": "markdown",
      "metadata": {
        "id": "N4ZiarVdyUI2"
      },
      "source": [
        "#### 23. How to remove duplicate elements in the list?\n",
        "<b> &nbsp;&nbsp;&nbsp;&nbsp;&nbsp;Ans: Using set data structure we can remove duplicate elements in a list</b>"
      ]
    },
    {
      "cell_type": "markdown",
      "metadata": {
        "id": "nuu9b42lyUI3"
      },
      "source": [
        "#### 24. How to find an index of an element in the python list?\n",
        "<b> &nbsp;&nbsp;&nbsp;&nbsp;&nbsp;Ans: The index() method returns the index of the specified element in the list.</b>"
      ]
    },
    {
      "cell_type": "markdown",
      "metadata": {
        "id": "F6KE4fxTyUI4"
      },
      "source": [
        "#### 25. How to find the occurrences of an element in the python list?\n",
        "<b> &nbsp;&nbsp;&nbsp;&nbsp;&nbsp;Ans: The count() method returns the number of times element appears in the list.</b>"
      ]
    },
    {
      "cell_type": "markdown",
      "metadata": {
        "id": "gklZsYLRyUI5"
      },
      "source": [
        "#### 26. How to insert an item at a given position?\n",
        "<b> &nbsp;&nbsp;&nbsp;&nbsp;&nbsp;Ans: insert() is an inbuilt function in Python that inserts a given element at a given index in a list.</b>"
      ]
    },
    {
      "cell_type": "markdown",
      "metadata": {
        "id": "2sJHRo9eyUI6"
      },
      "source": [
        "#### 27. How to check if an item is in the list?\n",
        "<b> &nbsp;&nbsp;&nbsp;&nbsp;&nbsp;Ans: Python *in* is the most conventional way to check if an element exists in list or not. This particular way returns True if element exists in list and False if the element does not exists in list.</b>"
      ]
    },
    {
      "cell_type": "markdown",
      "metadata": {
        "id": "ns9rbaJkyUI7"
      },
      "source": [
        "#### 28. How to flatten a list in python?\n",
        "<b> &nbsp;&nbsp;&nbsp;&nbsp;&nbsp;Ans: </b>"
      ]
    },
    {
      "cell_type": "code",
      "metadata": {
        "colab": {
          "base_uri": "https://localhost:8080/"
        },
        "id": "_2v-3UX4yUI8",
        "outputId": "e7599f81-5ee1-4ed7-f67d-fbfa9eecb3d8"
      },
      "source": [
        "regular_list = [[1, 2, 3, 4], [5, 6, 7], [8, 9]]\n",
        "flat_list = [item for sublist in regular_list for item in sublist]\n",
        "print('Original list', regular_list)\n",
        "print('Transformed list', flat_list)"
      ],
      "execution_count": 21,
      "outputs": [
        {
          "output_type": "stream",
          "text": [
            "Original list [[1, 2, 3, 4], [5, 6, 7], [8, 9]]\n",
            "Transformed list [1, 2, 3, 4, 5, 6, 7, 8, 9]\n"
          ],
          "name": "stdout"
        }
      ]
    },
    {
      "cell_type": "markdown",
      "metadata": {
        "id": "pFyB42qJyUI9"
      },
      "source": [
        "#### 29. How to convert python list to other data structures like set, tuple, dictionary?\n",
        "<b> &nbsp;&nbsp;&nbsp;&nbsp;&nbsp;Ans: </b>"
      ]
    },
    {
      "cell_type": "code",
      "metadata": {
        "colab": {
          "base_uri": "https://localhost:8080/"
        },
        "id": "Zz9JICdMyUI-",
        "outputId": "0200fcfb-a071-46f2-c8a4-b203d9d5594a"
      },
      "source": [
        "list1 = [1, 2, 3]\n",
        "type(set(list1))"
      ],
      "execution_count": 22,
      "outputs": [
        {
          "output_type": "execute_result",
          "data": {
            "text/plain": [
              "set"
            ]
          },
          "metadata": {
            "tags": []
          },
          "execution_count": 22
        }
      ]
    },
    {
      "cell_type": "code",
      "metadata": {
        "colab": {
          "base_uri": "https://localhost:8080/"
        },
        "id": "krWHGg8uyUI-",
        "outputId": "ad582eca-e684-4480-fdb9-5f98ba490fb6"
      },
      "source": [
        "type(tuple(list1))"
      ],
      "execution_count": 23,
      "outputs": [
        {
          "output_type": "execute_result",
          "data": {
            "text/plain": [
              "tuple"
            ]
          },
          "metadata": {
            "tags": []
          },
          "execution_count": 23
        }
      ]
    },
    {
      "cell_type": "code",
      "metadata": {
        "colab": {
          "base_uri": "https://localhost:8080/"
        },
        "id": "VxnxXBdZyUJA",
        "outputId": "5766e484-5cd3-4efb-8d1d-944a4a9441d3"
      },
      "source": [
        "d = {\"Values\" : list1}\n",
        "type(d)"
      ],
      "execution_count": 24,
      "outputs": [
        {
          "output_type": "execute_result",
          "data": {
            "text/plain": [
              "dict"
            ]
          },
          "metadata": {
            "tags": []
          },
          "execution_count": 24
        }
      ]
    },
    {
      "cell_type": "code",
      "metadata": {
        "id": "mXEF3GdQyUJB"
      },
      "source": [
        "def list_to_dict(key_list, value_list):\n",
        "    my_dict = {}\n",
        "    for i in range (0, len(key_list)):\n",
        "        my_dict[key_list[i]] = value_list[i]\n",
        "        \n",
        "    return my_dict"
      ],
      "execution_count": 25,
      "outputs": []
    },
    {
      "cell_type": "code",
      "metadata": {
        "colab": {
          "base_uri": "https://localhost:8080/"
        },
        "id": "fdbm_FhiyUJC",
        "outputId": "44982c52-95f1-46d9-a801-957ba61c5a30"
      },
      "source": [
        "list_to_dict(['a', 'b', 'c'],[1, 2, 3])"
      ],
      "execution_count": 26,
      "outputs": [
        {
          "output_type": "execute_result",
          "data": {
            "text/plain": [
              "{'a': 1, 'b': 2, 'c': 3}"
            ]
          },
          "metadata": {
            "tags": []
          },
          "execution_count": 26
        }
      ]
    },
    {
      "cell_type": "markdown",
      "metadata": {
        "id": "4JryzOOSyUJD"
      },
      "source": [
        "#### 30. How to apply a function to all items in the list?\n",
        "<b> &nbsp;&nbsp;&nbsp;&nbsp;&nbsp;Ans: </b>"
      ]
    },
    {
      "cell_type": "code",
      "metadata": {
        "colab": {
          "base_uri": "https://localhost:8080/"
        },
        "id": "CY_FhdMMyUJE",
        "outputId": "4add4db3-0719-4206-dc44-c9eed84863b7"
      },
      "source": [
        "def square(x):\n",
        "    return x**2\n",
        "\n",
        "list1 = [1, 5, 10, 13]\n",
        "print(f\"Original list: {list1}\")\n",
        "res = [square(item) for item in list1]\n",
        "print(f\"List after modification: {res}\")"
      ],
      "execution_count": 27,
      "outputs": [
        {
          "output_type": "stream",
          "text": [
            "Original list: [1, 5, 10, 13]\n",
            "List after modification: [1, 25, 100, 169]\n"
          ],
          "name": "stdout"
        }
      ]
    },
    {
      "cell_type": "markdown",
      "metadata": {
        "id": "ifDMpIPtyUJF"
      },
      "source": [
        "#### 31. How to filter the elements based on a function in a python list?\n",
        "<b> &nbsp;&nbsp;&nbsp;&nbsp;&nbsp;Ans: </b>"
      ]
    },
    {
      "cell_type": "code",
      "metadata": {
        "colab": {
          "base_uri": "https://localhost:8080/"
        },
        "id": "GnEnww7OyUJG",
        "outputId": "02ed9982-a778-457a-d093-d88101d31365"
      },
      "source": [
        "list2 = [10, 1, 7, 15, 6, 19, 25]\n",
        "\n",
        "# using filter and lambda function\n",
        "filtered_list = filter(lambda num: num > 10,list2)\n",
        "print(f\"Filtered list: {list(filtered_list)}\")"
      ],
      "execution_count": 28,
      "outputs": [
        {
          "output_type": "stream",
          "text": [
            "Filtered list: [15, 19, 25]\n"
          ],
          "name": "stdout"
        }
      ]
    },
    {
      "cell_type": "markdown",
      "metadata": {
        "id": "4j9eo08fyUJH"
      },
      "source": [
        "#### 32. How python lists are stored in memory?\n",
        "<b> &nbsp;&nbsp;&nbsp;&nbsp;&nbsp;Ans: The list objects consists of two internal parts: one object header and seperately allocated array of object reference. </b>"
      ]
    },
    {
      "cell_type": "code",
      "metadata": {
        "id": "8LYF1N1WyUJI"
      },
      "source": [
        ""
      ],
      "execution_count": 28,
      "outputs": []
    }
  ]
}