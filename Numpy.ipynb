{
  "nbformat": 4,
  "nbformat_minor": 0,
  "metadata": {
    "colab": {
      "name": "Numpy.ipynb",
      "provenance": [],
      "collapsed_sections": [],
      "include_colab_link": true
    },
    "kernelspec": {
      "name": "python3",
      "display_name": "Python 3"
    },
    "language_info": {
      "name": "python"
    }
  },
  "cells": [
    {
      "cell_type": "markdown",
      "metadata": {
        "id": "view-in-github",
        "colab_type": "text"
      },
      "source": [
        "<a href=\"https://colab.research.google.com/github/mkmahto2/summerintership_goeduhub/blob/main/Numpy.ipynb\" target=\"_parent\"><img src=\"https://colab.research.google.com/assets/colab-badge.svg\" alt=\"Open In Colab\"/></a>"
      ]
    },
    {
      "cell_type": "markdown",
      "metadata": {
        "id": "zP7gfJEFAl3-"
      },
      "source": [
        "# ***Assignment/Task-4***\n"
      ]
    },
    {
      "cell_type": "markdown",
      "metadata": {
        "id": "iJba1ukya9-4"
      },
      "source": [
        "### **GO_STP_9639**"
      ]
    },
    {
      "cell_type": "markdown",
      "metadata": {
        "id": "S7VBFyAbAy31"
      },
      "source": [
        "# ***Import the numpy package and print numpy version and configuration***"
      ]
    },
    {
      "cell_type": "code",
      "metadata": {
        "colab": {
          "base_uri": "https://localhost:8080/"
        },
        "id": "GfgN8bQJAjMd",
        "outputId": "b3d0f75d-6a98-4004-ee17-d75e89f38fb4"
      },
      "source": [
        "import numpy as np\n",
        "\n",
        "np.version\n"
      ],
      "execution_count": null,
      "outputs": [
        {
          "output_type": "execute_result",
          "data": {
            "text/plain": [
              "<module 'numpy.version' from '/usr/local/lib/python3.7/dist-packages/numpy/version.py'>"
            ]
          },
          "metadata": {
            "tags": []
          },
          "execution_count": 6
        }
      ]
    },
    {
      "cell_type": "markdown",
      "metadata": {
        "id": "RqAHRGajBqOs"
      },
      "source": [
        "# ***Create a null vector of size 10***"
      ]
    },
    {
      "cell_type": "code",
      "metadata": {
        "colab": {
          "base_uri": "https://localhost:8080/"
        },
        "id": "5j7p7qV8BYU5",
        "outputId": "b4fca2d4-1a6f-406f-9d79-c6ddfffc7215"
      },
      "source": [
        "x = np.zeros(10)\n",
        "x"
      ],
      "execution_count": null,
      "outputs": [
        {
          "output_type": "execute_result",
          "data": {
            "text/plain": [
              "array([0., 0., 0., 0., 0., 0., 0., 0., 0., 0.])"
            ]
          },
          "metadata": {
            "tags": []
          },
          "execution_count": 7
        }
      ]
    },
    {
      "cell_type": "markdown",
      "metadata": {
        "id": "RsL28spyBwls"
      },
      "source": [
        "# ***Create simple 1-D array and check type and data types in array***"
      ]
    },
    {
      "cell_type": "code",
      "metadata": {
        "colab": {
          "base_uri": "https://localhost:8080/"
        },
        "id": "BbzKxg2yB8nq",
        "outputId": "3cebde0c-66ba-459e-bcb6-8f3697c9fcde"
      },
      "source": [
        "a = np.array([1,2,3,4])\n",
        "\n",
        "print(type(a))\n",
        "\n",
        "a.dtype"
      ],
      "execution_count": null,
      "outputs": [
        {
          "output_type": "stream",
          "text": [
            "<class 'numpy.ndarray'>\n"
          ],
          "name": "stdout"
        },
        {
          "output_type": "execute_result",
          "data": {
            "text/plain": [
              "dtype('int64')"
            ]
          },
          "metadata": {
            "tags": []
          },
          "execution_count": 14
        }
      ]
    },
    {
      "cell_type": "markdown",
      "metadata": {
        "id": "XtEaMO3-CyMr"
      },
      "source": [
        "# ***How to find number of dimensions, bytes per element and bytes of memory used ?***"
      ]
    },
    {
      "cell_type": "code",
      "metadata": {
        "colab": {
          "base_uri": "https://localhost:8080/"
        },
        "id": "bdvJCTuaDAd4",
        "outputId": "702fb010-33a4-4d45-d095-a9a9dd121169"
      },
      "source": [
        "## Dimensions\n",
        "print(a.ndim)\n",
        "## Bytes per element\n",
        "print(a.itemsize)\n",
        "## Total Memory used\n",
        "print(a.nbytes)"
      ],
      "execution_count": null,
      "outputs": [
        {
          "output_type": "stream",
          "text": [
            "1\n",
            "8\n",
            "32\n"
          ],
          "name": "stdout"
        }
      ]
    },
    {
      "cell_type": "markdown",
      "metadata": {
        "id": "iPj2ARiTD0HF"
      },
      "source": [
        "# ***Create a null vector of size 10 but the fifth value which is 1***"
      ]
    },
    {
      "cell_type": "code",
      "metadata": {
        "colab": {
          "base_uri": "https://localhost:8080/"
        },
        "id": "cI7xaUD_EQGZ",
        "outputId": "b49f49c8-d5a0-4398-8828-142daa3e5cea"
      },
      "source": [
        "null = np.zeros(10)\n",
        "null[4] = 1\n",
        "\n",
        "print(null)"
      ],
      "execution_count": null,
      "outputs": [
        {
          "output_type": "stream",
          "text": [
            "[0. 0. 0. 0. 1. 0. 0. 0. 0. 0.]\n"
          ],
          "name": "stdout"
        }
      ]
    },
    {
      "cell_type": "markdown",
      "metadata": {
        "id": "eNcqYN5mEnYm"
      },
      "source": [
        "# ***Create a vector with values ragging from 10 to 49***"
      ]
    },
    {
      "cell_type": "code",
      "metadata": {
        "colab": {
          "base_uri": "https://localhost:8080/"
        },
        "id": "Yu8EizZcE6ZN",
        "outputId": "eabb84d1-fe6a-47ea-e354-0bcd6acc7d6a"
      },
      "source": [
        "print(np.arange(10,50))"
      ],
      "execution_count": null,
      "outputs": [
        {
          "output_type": "stream",
          "text": [
            "[10 11 12 13 14 15 16 17 18 19 20 21 22 23 24 25 26 27 28 29 30 31 32 33\n",
            " 34 35 36 37 38 39 40 41 42 43 44 45 46 47 48 49]\n"
          ],
          "name": "stdout"
        }
      ]
    },
    {
      "cell_type": "markdown",
      "metadata": {
        "id": "AGNOel4qGM-Q"
      },
      "source": [
        "# ***Reverse a vector (first element becomes last element)***"
      ]
    },
    {
      "cell_type": "code",
      "metadata": {
        "colab": {
          "base_uri": "https://localhost:8080/"
        },
        "id": "Fm8xvVIzFfy0",
        "outputId": "2776ad6e-795a-4fdf-8747-819e1c003769"
      },
      "source": [
        "a = np.arange(10)\n",
        "a = a[::-1]\n",
        "\n",
        "print(a)"
      ],
      "execution_count": null,
      "outputs": [
        {
          "output_type": "stream",
          "text": [
            "[9 8 7 6 5 4 3 2 1 0]\n"
          ],
          "name": "stdout"
        }
      ]
    },
    {
      "cell_type": "markdown",
      "metadata": {
        "id": "qjW2uav6GYli"
      },
      "source": [
        "# ***Create a 3x3 Matrix with values ragging 0 to 8***"
      ]
    },
    {
      "cell_type": "code",
      "metadata": {
        "colab": {
          "base_uri": "https://localhost:8080/"
        },
        "id": "ySeuLJ1VGtXd",
        "outputId": "eb947cad-4ccb-4812-e5bf-3654ba538e47"
      },
      "source": [
        "a = np.arange(0,9).reshape(3,3)\n",
        "\n",
        "print(a)"
      ],
      "execution_count": null,
      "outputs": [
        {
          "output_type": "stream",
          "text": [
            "[[0 1 2]\n",
            " [3 4 5]\n",
            " [6 7 8]]\n"
          ],
          "name": "stdout"
        }
      ]
    },
    {
      "cell_type": "markdown",
      "metadata": {
        "id": "AaS9YRDfHhka"
      },
      "source": [
        "# ***Find the indices of non-zero elements from [1,2,0,0,4,0]***"
      ]
    },
    {
      "cell_type": "code",
      "metadata": {
        "colab": {
          "base_uri": "https://localhost:8080/"
        },
        "id": "fYF1yy8IH5pq",
        "outputId": "33e779eb-b4f7-4047-9efd-ddf98cf639e1"
      },
      "source": [
        "x = np.array([1,2,0,0,4,0])\n",
        "\n",
        "print(x.nonzero())"
      ],
      "execution_count": null,
      "outputs": [
        {
          "output_type": "stream",
          "text": [
            "(array([0, 1, 4]),)\n"
          ],
          "name": "stdout"
        }
      ]
    },
    {
      "cell_type": "markdown",
      "metadata": {
        "id": "Ghj4Q9dYIKbq"
      },
      "source": [
        "# ***Create 3x3 Identity Matrix***"
      ]
    },
    {
      "cell_type": "code",
      "metadata": {
        "colab": {
          "base_uri": "https://localhost:8080/"
        },
        "id": "dgji-I7jIT3X",
        "outputId": "c543a71c-033b-4262-8059-82426836844b"
      },
      "source": [
        "x = np.identity(3)\n",
        "print(x)"
      ],
      "execution_count": null,
      "outputs": [
        {
          "output_type": "stream",
          "text": [
            "[[1. 0. 0.]\n",
            " [0. 1. 0.]\n",
            " [0. 0. 1.]]\n"
          ],
          "name": "stdout"
        }
      ]
    },
    {
      "cell_type": "markdown",
      "metadata": {
        "id": "ytudeJsvIqyY"
      },
      "source": [
        "# ***Create 3x3x3 array with random values.***"
      ]
    },
    {
      "cell_type": "code",
      "metadata": {
        "colab": {
          "base_uri": "https://localhost:8080/"
        },
        "id": "lzqKgL-yIxcg",
        "outputId": "d47e64b3-773d-4524-b9f7-dfecdd9f4ca6"
      },
      "source": [
        "x = np.random.random((3,3,3))\n",
        "print(x)"
      ],
      "execution_count": null,
      "outputs": [
        {
          "output_type": "stream",
          "text": [
            "[[[0.99648328 0.70975426 0.02683504]\n",
            "  [0.08394911 0.51561489 0.51650198]\n",
            "  [0.52200435 0.04836888 0.24233779]]\n",
            "\n",
            " [[0.29260685 0.97549055 0.432912  ]\n",
            "  [0.89996365 0.20224729 0.39582076]\n",
            "  [0.24457678 0.92085903 0.28975352]]\n",
            "\n",
            " [[0.46996427 0.02824502 0.87771572]\n",
            "  [0.12561839 0.0034517  0.11260609]\n",
            "  [0.11208388 0.99436697 0.33148014]]]\n"
          ],
          "name": "stdout"
        }
      ]
    },
    {
      "cell_type": "markdown",
      "metadata": {
        "id": "gJMF1BTwJW8I"
      },
      "source": [
        "# ***Create a 10x10 array with random values and find maximun and minimun***"
      ]
    },
    {
      "cell_type": "code",
      "metadata": {
        "colab": {
          "base_uri": "https://localhost:8080/"
        },
        "id": "A6vimxyiI7iZ",
        "outputId": "7eea6df9-65b4-47a6-fd7c-1b9ab5048ddf"
      },
      "source": [
        "x = np.random.random((10,10))\n",
        "print(x.min())\n",
        "print(x.max())\n"
      ],
      "execution_count": null,
      "outputs": [
        {
          "output_type": "stream",
          "text": [
            "0.006925541862780715\n",
            "0.9988474143710147\n"
          ],
          "name": "stdout"
        }
      ]
    },
    {
      "cell_type": "markdown",
      "metadata": {
        "id": "7tfQN6uuJhRO"
      },
      "source": [
        "# ***Create a random vector of size 30 and find the mean values***"
      ]
    },
    {
      "cell_type": "code",
      "metadata": {
        "colab": {
          "base_uri": "https://localhost:8080/"
        },
        "id": "xACkWMgmJqlb",
        "outputId": "0ee39803-2eb6-4c00-cd89-f27a66e45960"
      },
      "source": [
        "x = np.arange(30)\n",
        "print(x.mean())"
      ],
      "execution_count": null,
      "outputs": [
        {
          "output_type": "stream",
          "text": [
            "14.5\n"
          ],
          "name": "stdout"
        }
      ]
    },
    {
      "cell_type": "markdown",
      "metadata": {
        "id": "X4AQN0k0J3Kk"
      },
      "source": [
        "# ***Create a 2-D array with 1 on border and 0 inside***"
      ]
    },
    {
      "cell_type": "code",
      "metadata": {
        "colab": {
          "base_uri": "https://localhost:8080/"
        },
        "id": "PTvIdFiyKlpJ",
        "outputId": "c256b5cc-109e-45cb-c85f-150b8b7103ab"
      },
      "source": [
        "x = np.ones((5,5))\n",
        "x[1:-1,1:-1] = 0\n",
        "print(x)"
      ],
      "execution_count": null,
      "outputs": [
        {
          "output_type": "stream",
          "text": [
            "[[1. 1. 1. 1. 1.]\n",
            " [1. 0. 0. 0. 1.]\n",
            " [1. 0. 0. 0. 1.]\n",
            " [1. 0. 0. 0. 1.]\n",
            " [1. 1. 1. 1. 1.]]\n"
          ],
          "name": "stdout"
        }
      ]
    },
    {
      "cell_type": "markdown",
      "metadata": {
        "id": "5fjzq7W1KkTq"
      },
      "source": [
        "# ***How to add a border (filled with 0's) around an existing array?***"
      ]
    },
    {
      "cell_type": "code",
      "metadata": {
        "colab": {
          "base_uri": "https://localhost:8080/"
        },
        "id": "99HqMqiOLNn4",
        "outputId": "0763a153-01a7-4712-b0d3-049eb7f90ef8"
      },
      "source": [
        "x = np.pad(x, pad_width=1, mode='constant',constant_values=0)\n",
        "print(x)"
      ],
      "execution_count": null,
      "outputs": [
        {
          "output_type": "stream",
          "text": [
            "[[0. 0. 0. 0. 0. 0. 0.]\n",
            " [0. 1. 1. 1. 1. 1. 0.]\n",
            " [0. 1. 0. 0. 0. 1. 0.]\n",
            " [0. 1. 0. 0. 0. 1. 0.]\n",
            " [0. 1. 0. 0. 0. 1. 0.]\n",
            " [0. 1. 1. 1. 1. 1. 0.]\n",
            " [0. 0. 0. 0. 0. 0. 0.]]\n"
          ],
          "name": "stdout"
        }
      ]
    },
    {
      "cell_type": "markdown",
      "metadata": {
        "id": "S91zT_tDLuAg"
      },
      "source": [
        "# ***How to accessing/changing specific elements, rows, columns, etc in Numpy array?***"
      ]
    },
    {
      "cell_type": "code",
      "metadata": {
        "colab": {
          "base_uri": "https://localhost:8080/"
        },
        "id": "NnWlcl91MEiw",
        "outputId": "4fe56ab9-d662-4595-b580-f424fe909e1c"
      },
      "source": [
        "x = np.array([[1,2,3,4,5,6,7],[8,9,10,11,12,13,14]])\n",
        "\n",
        "## Get Element 13\n",
        "print(x[1,5])\n",
        "\n",
        "# Get Only 1st Row\n",
        "print(x[1:])\n",
        "\n",
        "# Get 3rd Column only\n",
        "print(x[0:,3])\n",
        "\n",
        "# Get [2,4,6]\n",
        "print(x[0,:][1:6:2])\n",
        "\n",
        "# Replace 13 by 20\n",
        "x[1,5] = 20\n",
        "\n",
        "print(x)"
      ],
      "execution_count": null,
      "outputs": [
        {
          "output_type": "stream",
          "text": [
            "13\n",
            "[[ 8  9 10 11 12 13 14]]\n",
            "[ 4 11]\n",
            "[2 4 6]\n",
            "[[ 1  2  3  4  5  6  7]\n",
            " [ 8  9 10 11 12 20 14]]\n"
          ],
          "name": "stdout"
        }
      ]
    },
    {
      "cell_type": "markdown",
      "metadata": {
        "id": "EOxw3f4Jd7T_"
      },
      "source": [
        "# ***How to convert a 1D array to a 2D array with 2 rows***"
      ]
    },
    {
      "cell_type": "code",
      "metadata": {
        "colab": {
          "base_uri": "https://localhost:8080/"
        },
        "id": "afLRHlYReGST",
        "outputId": "4d2a5a9a-c9e9-4182-f5bf-4e2cc9f24227"
      },
      "source": [
        "x = np.array([1,2,3,4,5,6,7,8])\n",
        "newarr = x.reshape(2,4)\n",
        "print(newarr)"
      ],
      "execution_count": null,
      "outputs": [
        {
          "output_type": "stream",
          "text": [
            "[[1 2 3 4]\n",
            " [5 6 7 8]]\n"
          ],
          "name": "stdout"
        }
      ]
    },
    {
      "cell_type": "markdown",
      "metadata": {
        "id": "_Q3SOxchcdTP"
      },
      "source": [
        "# ***Create the following pattern without hardcoding, Use only numpy functions and the below input array.***"
      ]
    },
    {
      "cell_type": "code",
      "metadata": {
        "colab": {
          "base_uri": "https://localhost:8080/"
        },
        "id": "eXJmbUQ4ctWE",
        "outputId": "797b31f5-95fe-4789-92e6-edfc658d7279"
      },
      "source": [
        "a = np.array([1,2,3])\n",
        "x = np.r_[np.repeat(a, 3), np.tile(a, 3)]\n",
        "\n",
        "print(x)"
      ],
      "execution_count": null,
      "outputs": [
        {
          "output_type": "stream",
          "text": [
            "[1 1 1 2 2 2 3 3 3 1 2 3 1 2 3 1 2 3]\n"
          ],
          "name": "stdout"
        }
      ]
    },
    {
      "cell_type": "markdown",
      "metadata": {
        "id": "q4QTKJpbeoko"
      },
      "source": [
        "# ***Write a program to show how numpy taking less memory compared to Python List***"
      ]
    },
    {
      "cell_type": "code",
      "metadata": {
        "colab": {
          "base_uri": "https://localhost:8080/"
        },
        "id": "a6xJxbLse5-u",
        "outputId": "294812ff-79db-4646-ff52-bbd67dd8bb02"
      },
      "source": [
        "import sys\n",
        "\n",
        "# Declaring a list of 3000 elements\n",
        "\n",
        "l = range(3000)\n",
        "# Printing the size of each element in the list\n",
        "print(\"List each element size : \", sys.getsizeof(l))\n",
        "# Print size of whole list in bytes\n",
        "print(\"Whole size of list : \" , sys.getsizeof(l) * len(l))\n",
        "\n",
        "# Declaring an Numpy array\n",
        "\n",
        "numpyarr = np.arange(3000)\n",
        "# Printing the size of each element in the numpy array\n",
        "print(\"Numpy array each element size : \", numpyarr.itemsize)\n",
        "# Print size of whole numpy array in bytes\n",
        "print(\"Whole size of numpy array : \" , numpyarr.size * numpyarr.itemsize)\n"
      ],
      "execution_count": null,
      "outputs": [
        {
          "output_type": "stream",
          "text": [
            "List each element size :  48\n",
            "Whole size of list :  144000\n",
            "Numpy array each element size :  8\n",
            "Whole size of numpy array :  24000\n"
          ],
          "name": "stdout"
        }
      ]
    },
    {
      "cell_type": "markdown",
      "metadata": {
        "id": "5fgYH8WlgzQ3"
      },
      "source": [
        "# ***Write a program to show how Numpy taking less time compared to python List***"
      ]
    },
    {
      "cell_type": "code",
      "metadata": {
        "colab": {
          "base_uri": "https://localhost:8080/"
        },
        "id": "4UA-Lpweg-QC",
        "outputId": "5e1cfd4f-ac75-4b05-e5eb-c4e97cbba4a0"
      },
      "source": [
        "import time\n",
        "# Declaring a list of 3000 elements\n",
        "l1 = range(3000)\n",
        "l2 = range(3000)\n",
        "# Declaring an Numpy array\n",
        "numpyarr1 = np.arange(3000)\n",
        "numpyarr2 = np.arange(3000)\n",
        "\n",
        "intialTime = time.time()\n",
        "\n",
        "resulttime = [(l1 + l2) for l1, l2 in zip(l1, l2)]\n",
        "\n",
        "# Calculation of execution time\n",
        "print(\"Time taken by lists to perform addition : \", (time.time() - intialTime) , \"Seconds\")\n",
        "\n",
        "intialTime = time.time()\n",
        "\n",
        "resultant = numpyarr1 + numpyarr2 \n",
        "\n",
        "# Calculation of execution time\n",
        "print(\"Time taken by Numpy arrays to perform addition : \", (time.time() - intialTime) , \"Seconds\")\n"
      ],
      "execution_count": null,
      "outputs": [
        {
          "output_type": "stream",
          "text": [
            "Time taken by lists to perform addition :  0.0012340545654296875 Seconds\n",
            "Time taken by Numpy arrays to perform addition :  0.002310514450073242 Seconds\n"
          ],
          "name": "stdout"
        }
      ]
    }
  ]
}