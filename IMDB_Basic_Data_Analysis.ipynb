{
  "nbformat": 4,
  "nbformat_minor": 0,
  "metadata": {
    "colab": {
      "name": "IMDB_Basic_Data_Analysis.ipynb",
      "provenance": [],
      "collapsed_sections": [],
      "include_colab_link": true
    },
    "kernelspec": {
      "name": "python3",
      "display_name": "Python 3"
    },
    "language_info": {
      "name": "python"
    }
  },
  "cells": [
    {
      "cell_type": "markdown",
      "metadata": {
        "id": "view-in-github",
        "colab_type": "text"
      },
      "source": [
        "<a href=\"https://colab.research.google.com/github/mkmahto2/summerintership_goeduhub/blob/main/IMDB_Basic_Data_Analysis.ipynb\" target=\"_parent\"><img src=\"https://colab.research.google.com/assets/colab-badge.svg\" alt=\"Open In Colab\"/></a>"
      ]
    },
    {
      "cell_type": "markdown",
      "metadata": {
        "id": "Y79vmkVatE-P"
      },
      "source": [
        "**GO_STP_9639**"
      ]
    },
    {
      "cell_type": "markdown",
      "metadata": {
        "id": "pO3X-yvH4gov"
      },
      "source": [
        "### ***Importing Pandas & Numpy***"
      ]
    },
    {
      "cell_type": "code",
      "metadata": {
        "id": "J8_kQMbb3bn5"
      },
      "source": [
        "import numpy as np\n",
        "import pandas as pd"
      ],
      "execution_count": 31,
      "outputs": []
    },
    {
      "cell_type": "markdown",
      "metadata": {
        "id": "a1vl7S3W4t5B"
      },
      "source": [
        "# ***Loading the data set of IMDB***"
      ]
    },
    {
      "cell_type": "code",
      "metadata": {
        "colab": {
          "base_uri": "https://localhost:8080/"
        },
        "id": "5KujroE_kAdi",
        "outputId": "de679685-40de-4e9b-c170-e0f43c4ca089"
      },
      "source": [
        "from google.colab import drive\n",
        "drive.mount('/content/gdrive')\n"
      ],
      "execution_count": 32,
      "outputs": [
        {
          "output_type": "stream",
          "text": [
            "Drive already mounted at /content/gdrive; to attempt to forcibly remount, call drive.mount(\"/content/gdrive\", force_remount=True).\n"
          ],
          "name": "stdout"
        }
      ]
    },
    {
      "cell_type": "code",
      "metadata": {
        "id": "u1V1jEECmL0S"
      },
      "source": [
        "import os\n",
        "os.environ['KAGGLE_CONFIG_DIR'] = \"/content/gdrive/My Drive/Kaggle\""
      ],
      "execution_count": 33,
      "outputs": []
    },
    {
      "cell_type": "code",
      "metadata": {
        "colab": {
          "base_uri": "https://localhost:8080/"
        },
        "id": "gI5y8AYimUh3",
        "outputId": "e49184f2-ee3a-4c2a-da0d-01997995c165"
      },
      "source": [
        "%cd /content/gdrive/My Drive/Kaggle"
      ],
      "execution_count": 34,
      "outputs": [
        {
          "output_type": "stream",
          "text": [
            "/content/gdrive/My Drive/Kaggle\n"
          ],
          "name": "stdout"
        }
      ]
    },
    {
      "cell_type": "code",
      "metadata": {
        "colab": {
          "base_uri": "https://localhost:8080/"
        },
        "id": "HCdUxqpZm-Ec",
        "outputId": "3374c6d2-f583-47d4-e3ee-86ac11ac7373"
      },
      "source": [
        "!kaggle datasets download -d PromptCloudHQ/imdb-data"
      ],
      "execution_count": 35,
      "outputs": [
        {
          "output_type": "stream",
          "text": [
            "Downloading imdb-data.zip to /content/gdrive/My Drive/Kaggle\n",
            "\r  0% 0.00/134k [00:00<?, ?B/s]\n",
            "\r100% 134k/134k [00:00<00:00, 16.8MB/s]\n"
          ],
          "name": "stdout"
        }
      ]
    },
    {
      "cell_type": "code",
      "metadata": {
        "id": "pt-ZoLklrpCn"
      },
      "source": [
        ""
      ],
      "execution_count": 35,
      "outputs": []
    },
    {
      "cell_type": "code",
      "metadata": {
        "colab": {
          "base_uri": "https://localhost:8080/"
        },
        "id": "1tQnsQi6rvqN",
        "outputId": "4aba4ead-e1a7-42b8-e4ac-0d44c6b4c8e6"
      },
      "source": [
        "!ls\n"
      ],
      "execution_count": 36,
      "outputs": [
        {
          "output_type": "stream",
          "text": [
            " imdb-data.zip\t      'IMDb names.csv'\t\t    kaggle.json\n",
            " IMDB-Movie-Data.csv  'IMDb ratings.csv'\n",
            "'IMDb movies.csv'     'IMDb title_principals.csv'\n"
          ],
          "name": "stdout"
        }
      ]
    },
    {
      "cell_type": "code",
      "metadata": {
        "colab": {
          "base_uri": "https://localhost:8080/"
        },
        "id": "0kLqPQSy4y_i",
        "outputId": "2a37fb4b-3cc0-494f-ff4d-fabe9f61a6d2"
      },
      "source": [
        "!unzip \\*.zip  && rm *.zip\n",
        "\n"
      ],
      "execution_count": null,
      "outputs": [
        {
          "output_type": "stream",
          "text": [
            "Archive:  imdb-data.zip\n",
            "replace IMDB-Movie-Data.csv? [y]es, [n]o, [A]ll, [N]one, [r]ename: "
          ],
          "name": "stdout"
        }
      ]
    },
    {
      "cell_type": "code",
      "metadata": {
        "id": "CdH5OBDKrxjb"
      },
      "source": [
        "\n",
        "movies = pd.read_csv(\"IMDB-Movie-Data.csv\")"
      ],
      "execution_count": null,
      "outputs": []
    },
    {
      "cell_type": "markdown",
      "metadata": {
        "id": "NSE9FHCA5s_H"
      },
      "source": [
        "# ***Understand the basic information about the dataset and inspect the dataframe's columns, shapes, variable types etc.***"
      ]
    },
    {
      "cell_type": "code",
      "metadata": {
        "id": "57NzVBwJ6E4j"
      },
      "source": [
        "## Viewing the columns\n",
        "\n",
        "movies.columns"
      ],
      "execution_count": null,
      "outputs": []
    },
    {
      "cell_type": "code",
      "metadata": {
        "id": "9GbvsVV16OGG"
      },
      "source": [
        "## Inspecting shapes\n",
        "movies.shape"
      ],
      "execution_count": null,
      "outputs": []
    },
    {
      "cell_type": "code",
      "metadata": {
        "id": "w76G982C6ZbZ"
      },
      "source": [
        "## Inspecting Data Types\n",
        "\n",
        "print(movies.dtypes)"
      ],
      "execution_count": null,
      "outputs": []
    },
    {
      "cell_type": "code",
      "metadata": {
        "id": "iBTf-p5c6iNO"
      },
      "source": [
        "## Inspecting Dimensions\n",
        "print(movies.ndim)"
      ],
      "execution_count": null,
      "outputs": []
    },
    {
      "cell_type": "code",
      "metadata": {
        "id": "IoGWQwBH6o2L"
      },
      "source": [
        "## Inspecting Size\n",
        "movies.size"
      ],
      "execution_count": null,
      "outputs": []
    },
    {
      "cell_type": "markdown",
      "metadata": {
        "id": "PMgCjD7G6x1N"
      },
      "source": [
        "# ***Basic Statistics about this Dataset***"
      ]
    },
    {
      "cell_type": "code",
      "metadata": {
        "id": "lr1VYRou63NN"
      },
      "source": [
        "movies.describe()"
      ],
      "execution_count": null,
      "outputs": []
    },
    {
      "cell_type": "code",
      "metadata": {
        "id": "P7crYjqo7Pq-"
      },
      "source": [
        "movies.head(30).mean()"
      ],
      "execution_count": null,
      "outputs": []
    },
    {
      "cell_type": "markdown",
      "metadata": {
        "id": "mm5pCIvs7jDo"
      },
      "source": [
        "# ***Data Selection -- Indexing and Slicing the data***"
      ]
    },
    {
      "cell_type": "code",
      "metadata": {
        "id": "VspsP-BK7pzv"
      },
      "source": [
        "## Selecting movies rating only ;;\n",
        "\n",
        "movie_rating = movies[['Rating']]\n",
        "movie_rating"
      ],
      "execution_count": null,
      "outputs": []
    },
    {
      "cell_type": "code",
      "metadata": {
        "id": "vOrlnv298KL0"
      },
      "source": [
        "## Selecting only movies Titles\n",
        "\n",
        "movie_title = movies[['Title']]\n",
        "movie_title"
      ],
      "execution_count": null,
      "outputs": []
    },
    {
      "cell_type": "markdown",
      "metadata": {
        "id": "cNRcW_i38itH"
      },
      "source": [
        "# ***Data Selection Based on Conditions***"
      ]
    },
    {
      "cell_type": "code",
      "metadata": {
        "id": "elk4XuWw8auO"
      },
      "source": [
        "## Selection of movies less earned revenue\n",
        "\n",
        "less_earned = movies[movies['Revenue (Millions)'] == movies['Revenue (Millions)'].min()]\n",
        "print(less_earned)"
      ],
      "execution_count": null,
      "outputs": []
    },
    {
      "cell_type": "code",
      "metadata": {
        "id": "dzd5QVPq9Pky"
      },
      "source": [
        "## Selection of Movies title having most rating on IMBD\n",
        "\n",
        "top_rated = movies[[\"Title\",\"Director\",\"Rating\"]][movies[\"Rating\"] == movies[\"Rating\"].max()]\n",
        "print(top_rated)"
      ],
      "execution_count": null,
      "outputs": []
    },
    {
      "cell_type": "markdown",
      "metadata": {
        "id": "X71FhgDM-Hp-"
      },
      "source": [
        "# ***Groupby Operations***"
      ]
    },
    {
      "cell_type": "code",
      "metadata": {
        "id": "KM9mqWo4-OyE"
      },
      "source": [
        "'genres = movies.groupby('Genre')['Revenue (Millions)'].mean().reset_index()\n",
        "print(genres)"
      ],
      "execution_count": null,
      "outputs": []
    },
    {
      "cell_type": "markdown",
      "metadata": {
        "id": "OAqBoZBTAVbS"
      },
      "source": [
        "# ***Sorting Operations***"
      ]
    },
    {
      "cell_type": "code",
      "metadata": {
        "id": "73jk9-Cq_-PK"
      },
      "source": [
        "top_rated = movies.sort_values([\"Title\",\"Genre\",\"Revenue (Millions)\"], ascending=False)[[\"Title\",\"Director\",\"Revenue (Millions)\"]]\n",
        "top_rated.head(10)"
      ],
      "execution_count": null,
      "outputs": []
    },
    {
      "cell_type": "markdown",
      "metadata": {
        "id": "PFnKMuwjCARF"
      },
      "source": [
        "# ***Dealing with missing values***"
      ]
    },
    {
      "cell_type": "code",
      "metadata": {
        "id": "0bK7hfGbB82Y"
      },
      "source": [
        "movies.isna().any()"
      ],
      "execution_count": null,
      "outputs": []
    },
    {
      "cell_type": "code",
      "metadata": {
        "id": "4sqINfPfCK5T"
      },
      "source": [
        "print(movies.isna().sum())"
      ],
      "execution_count": null,
      "outputs": []
    },
    {
      "cell_type": "markdown",
      "metadata": {
        "id": "k9BvbDpFCXmT"
      },
      "source": [
        "# ***Dropping Columns and Null values***"
      ]
    },
    {
      "cell_type": "code",
      "metadata": {
        "id": "ZmMt_4cuCSv9"
      },
      "source": [
        "imdb_clean_data = movies.dropna()\n",
        "imdb_clean_data.info()"
      ],
      "execution_count": null,
      "outputs": []
    },
    {
      "cell_type": "markdown",
      "metadata": {
        "id": "9KQ_IN95C8Sp"
      },
      "source": [
        "# ***Apply() Function***"
      ]
    },
    {
      "cell_type": "code",
      "metadata": {
        "id": "vbXkj_vVDATM"
      },
      "source": [
        "top_rated_revenue = imdb_clean_data.sort_values([\"Rating\",\"Metascore\"], ascending=False)[[\"Title\", \"Director\", \"Rating\",\"Metascore\", \"Revenue (Millions)\"]]\n",
        "top_rated_revenue.index = range(1,839)\n",
        "top_rated_revenue.head(n=15)"
      ],
      "execution_count": null,
      "outputs": []
    }
  ]
}